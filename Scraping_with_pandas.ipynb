{
 "cells": [
  {
   "cell_type": "code",
   "execution_count": 69,
   "metadata": {},
   "outputs": [],
   "source": [
    "import pandas as pd\n",
    "import matplotlib.pyplot as plt\n",
    "import seaborn as sns\n",
    "# data = sns.load_dataset(\"tips\")"
   ]
  },
  {
   "cell_type": "code",
   "execution_count": 70,
   "metadata": {},
   "outputs": [
    {
     "name": "stdout",
     "output_type": "stream",
     "text": [
      "{'Model': 'Apple MacBook Pro 16” (Mid-2019)', 'Price': '$539.00', 'Processor': 'Core i9 2.4 GHz', 'Keyboard': 'QWERTY - English', 'RAM': '32GB', 'Storage': '512 GB'}\n",
      "{'Model': 'Apple MacBook Pro 13.3” (Mid-2020)', 'Price': '$496.00', 'Processor': 'Core i5 2.0 GHz', 'Keyboard': 'QWERTY - English', 'RAM': '16GB', 'Storage': '512 GB'}\n",
      "{'Model': 'Apple MacBook Pro 16” (Mid-2019)', 'Price': '$484.00', 'Processor': 'Core i7 2.6 GHz', 'Keyboard': 'QWERTY - English', 'RAM': '16GB', 'Storage': '512 GB'}\n",
      "{'Model': 'Apple MacBook Air 13.3” (Late 2020)', 'Price': '$516.40', 'Processor': 'Apple M1', 'Keyboard': 'QWERTY - English', 'RAM': '8GB', 'Storage': '128 GB'}\n",
      "{'Model': 'Apple MacBook Pro 13.3” (Mid-2020)', 'Price': '$396.99', 'Processor': 'Core i7 2.3 GHz', 'Keyboard': 'QWERTY - English', 'RAM': '16GB', 'Storage': '512 GB'}\n",
      "{'Model': 'Apple MacBook Air 13.3” (Mid-2020)', 'Price': '$393.00', 'Processor': 'Core i3 1.1 GHz', 'Keyboard': 'QWERTY - English', 'RAM': '8GB', 'Storage': '128 GB'}\n",
      "{'Model': 'Apple MacBook Air 11.6” (Early 2015)', 'Price': '$109.17', 'Processor': 'Core i5 1.6 GHz', 'Keyboard': 'QWERTY - English', 'RAM': '4GB', 'Storage': '128 GB'}\n",
      "{'Model': 'Apple MacBook Pro 13.3” (Late 2020)', 'Price': '$1,043.00', 'Processor': 'Apple M1', 'Keyboard': 'QWERTY - English', 'RAM': '16GB', 'Storage': '256 GB'}\n",
      "{'Model': 'Apple MacBook Pro 13.3” (Mid-2017)', 'Price': '$240.99', 'Processor': 'Core i5 2.3 GHz', 'Keyboard': 'QWERTY - English', 'RAM': '8GB', 'Storage': '25 GB'}\n",
      "{'Model': 'Apple MacBook Pro 16” (Late 2019)', 'Price': '$473.99', 'Processor': 'Core i7 2.6 GHz', 'Keyboard': 'QWERTY - English', 'RAM': '32GB', 'Storage': '512 GB'}\n",
      "{'Model': 'Apple MacBook Air 11.6” (Mid-2014)', 'Price': '$89.99', 'Processor': 'Core i5 1.4 GHz', 'Keyboard': 'QWERTY - English', 'RAM': '4GB', 'Storage': '128 GB'}\n",
      "{'Model': 'Apple MacBook Pro 13.3” (Mid-2020)', 'Price': '$345.99', 'Processor': 'Core i5 2.0 GHz', 'Keyboard': 'QWERTY - English', 'RAM': '16GB', 'Storage': '512 GB'}\n",
      "{'Model': 'Apple MacBook Pro 16” (Mid-2019)', 'Price': '$756.00', 'Processor': 'Core i9 2.4 GHz', 'Keyboard': 'QWERTY - English', 'RAM': '32GB', 'Storage': '512 GB'}\n",
      "{'Model': 'Apple MacBook Pro 13.3” (Mid-2020)', 'Price': '$506.99', 'Processor': 'Core i7 2.3 GHz', 'Keyboard': 'QWERTY - English', 'RAM': '32GB', 'Storage': '512 GB'}\n",
      "{'Model': 'Apple MacBook Pro 13.3” (Mid-2019)', 'Price': '$383.00', 'Processor': 'Core i7 2.8 GHz', 'Keyboard': 'QWERTY - English', 'RAM': '16GB', 'Storage': '256 GB'}\n",
      "{'Model': 'Apple MacBook Pro 13.3” (Mid-2019)', 'Price': '$384.00', 'Processor': 'Core i5 2.4 GHz', 'Keyboard': 'QWERTY - English', 'RAM': '16GB', 'Storage': '256 GB'}\n",
      "{'Model': 'Apple MacBook Pro 14.2” (Late 2021)', 'Price': '$1,149.97', 'Processor': 'Apple M1 Pro', 'Keyboard': 'QWERTY - English', 'RAM': '16GB', 'Storage': '512 GB'}\n",
      "{'Model': 'Apple MacBook Pro 16” (Mid-2019)', 'Price': '$564.99', 'Processor': 'Core i9 2.3 GHz', 'Keyboard': 'QWERTY - English', 'RAM': '16GB', 'Storage': '512 GB'}\n",
      "{'Model': 'Apple MacBook Air 13.3” (Mid-2022)', 'Price': '$835.92', 'Processor': 'Apple M2', 'Keyboard': 'QWERTY - English', 'RAM': '8GB', 'Storage': '256 GB'}\n",
      "{'Model': 'Apple MacBook Air 13.3” (Mid-2020)', 'Price': '$394.24', 'Processor': 'Core i5 1.1 GHz', 'Keyboard': 'QWERTY - English', 'RAM': '8GB', 'Storage': '256 GB'}\n",
      "{'Model': 'Apple MacBook Pro 16.2” (Late 2021)', 'Price': '$1,105.99', 'Processor': 'Apple M1 Pro', 'Keyboard': 'QWERTY - English', 'RAM': '16GB', 'Storage': '512 GB'}\n",
      "{'Model': 'Apple MacBook Air 13.3” (Mid-2019)', 'Price': '$355.00', 'Processor': 'Core i5 1.6 GHz', 'Keyboard': 'QWERTY - English', 'RAM': '16GB', 'Storage': '128 GB'}\n",
      "{'Model': 'Apple MacBook Air 15.3” (Mid-2023)', 'Price': '$849.00', 'Processor': 'Apple M2', 'Keyboard': 'QWERTY - English', 'RAM': '8GB', 'Storage': '256 GB'}\n",
      "{'Model': 'Apple MacBook Air 13.3” (Mid-2017)', 'Price': '$212.97', 'Processor': 'Core i7 2.2 GHz', 'Keyboard': 'QWERTY - English', 'RAM': '8GB', 'Storage': '128 GB'}\n",
      "{'Model': 'Apple MacBook Pro 13.3” (Mid-2018)', 'Price': '$342.30', 'Processor': 'Core i7 2.7 GHz', 'Keyboard': 'QWERTY - English', 'RAM': '16GB', 'Storage': '256 GB'}\n",
      "{'Model': 'Apple MacBook Pro 16” (Mid-2019)', 'Price': '$601.99', 'Processor': 'Core i9 2.3 GHz', 'Keyboard': 'QWERTY - English', 'RAM': '32GB', 'Storage': '512 GB'}\n",
      "{'Model': 'Apple MacBook Pro 15.4” (Mid-2019)', 'Price': '$499.00', 'Processor': 'Core i7 2.6 GHz', 'Keyboard': 'QWERTY - English', 'RAM': '16GB', 'Storage': '256 GB'}\n",
      "{'Model': 'Apple MacBook Air 13.3” (Late 2018)', 'Price': '$350.00', 'Processor': 'Core i5 1.6 GHz', 'Keyboard': 'QWERTY - English', 'RAM': '8GB', 'Storage': '128 GB'}\n",
      "{'Model': 'Apple MacBook Pro 13.3” (Mid-2020)', 'Price': '$382.99', 'Processor': 'Core i5 1.4 GHz', 'Keyboard': 'QWERTY - English', 'RAM': '8GB', 'Storage': '256 GB'}\n"
     ]
    }
   ],
   "source": [
    "# ScraperV3.py which utalizes BeautifulSoup to scrape prices of MacBooks\n",
    "\n",
    "from bs4 import BeautifulSoup\n",
    "import requests\n",
    "\n",
    "# Pull the results\n",
    "url = \"https://www.backmarket.com/en-us/l/apple-macbook/a059fa0c-b88d-4095-b6a2-dcbeb9dd5b33\"\n",
    "results = requests.get(url)\n",
    "\n",
    "doc=BeautifulSoup(results.text, \"html.parser\")\n",
    "\n",
    "# Create an empty array for containing all the Laptop dictionaries\n",
    "Laptops_array = []\n",
    "\n",
    "\n",
    "# Full Laptop details/Product card\n",
    "Laptops = doc.find_all(class_=\"productCard col-span-full\")\n",
    "\n",
    "# Loop to go through all laptops/product cards on the page. Add each definition to a Laptop dictionary\n",
    "for Laptop in Laptops:\n",
    "    Laptop_dict = {}\n",
    "\n",
    "    # Models and Prices were found through the listed class.\n",
    "    Models = Laptop.find_all(class_=\"body-1-bold mb-1 text-black text-left flex-grow\")\n",
    "    for Model in Models:\n",
    "        Laptop_dict['Model'] = Model.string.strip()\n",
    "\n",
    "    Prices = Laptop.find_all(class_=\"body-2-bold text-black\")\n",
    "    for Price in Prices:\n",
    "        Laptop_dict['Price'] = Price.string.strip()\n",
    "\n",
    "    # Processors, Keyboards, RAM, and Storage fields were all tied HTML headers s\n",
    "    Processors = Laptop.find_all(\"dd\")[0]\n",
    "    for Processor in Processors:\n",
    "        Laptop_dict['Processor'] = Processor.string.strip()\n",
    "\n",
    "    Keyboards = Laptop.find_all(\"dd\")[1]\n",
    "    for Keyboard in Keyboards:\n",
    "        Laptop_dict['Keyboard'] = Keyboard.string.strip()\n",
    "\n",
    "    RAMs = Laptop.find_all(\"dd\")[2]\n",
    "    for RAM in RAMs:\n",
    "        Laptop_dict['RAM'] = RAM.string.strip()\n",
    "\n",
    "    Storages = Laptop.find_all(\"li\")[0]\n",
    "    for Storage in Storages:\n",
    "        Laptop_dict['Storage'] = Storage.string.strip()\n",
    "\n",
    "# Append and add each laptop dictionary in the request/site to the Laptop array\n",
    "    Laptops_array.append(Laptop_dict)\n",
    "\n",
    "for laptop in Laptops_array:\n",
    "    print(laptop)"
   ]
  },
  {
   "cell_type": "code",
   "execution_count": 71,
   "metadata": {},
   "outputs": [
    {
     "name": "stdout",
     "output_type": "stream",
     "text": [
      "                                   Model    Price        Processor  \\\n",
      "16   Apple MacBook Pro 14.2” (Late 2021)  1149.97     Apple M1 Pro   \n",
      "20   Apple MacBook Pro 16.2” (Late 2021)  1105.99     Apple M1 Pro   \n",
      "7    Apple MacBook Pro 13.3” (Late 2020)  1043.00         Apple M1   \n",
      "22    Apple MacBook Air 15.3” (Mid-2023)   849.00         Apple M2   \n",
      "18    Apple MacBook Air 13.3” (Mid-2022)   835.92         Apple M2   \n",
      "12      Apple MacBook Pro 16” (Mid-2019)   756.00  Core i9 2.4 GHz   \n",
      "25      Apple MacBook Pro 16” (Mid-2019)   601.99  Core i9 2.3 GHz   \n",
      "17      Apple MacBook Pro 16” (Mid-2019)   564.99  Core i9 2.3 GHz   \n",
      "0       Apple MacBook Pro 16” (Mid-2019)   539.00  Core i9 2.4 GHz   \n",
      "3    Apple MacBook Air 13.3” (Late 2020)   516.40         Apple M1   \n",
      "13    Apple MacBook Pro 13.3” (Mid-2020)   506.99  Core i7 2.3 GHz   \n",
      "26    Apple MacBook Pro 15.4” (Mid-2019)   499.00  Core i7 2.6 GHz   \n",
      "1     Apple MacBook Pro 13.3” (Mid-2020)   496.00  Core i5 2.0 GHz   \n",
      "2       Apple MacBook Pro 16” (Mid-2019)   484.00  Core i7 2.6 GHz   \n",
      "9      Apple MacBook Pro 16” (Late 2019)   473.99  Core i7 2.6 GHz   \n",
      "4     Apple MacBook Pro 13.3” (Mid-2020)   396.99  Core i7 2.3 GHz   \n",
      "19    Apple MacBook Air 13.3” (Mid-2020)   394.24  Core i5 1.1 GHz   \n",
      "5     Apple MacBook Air 13.3” (Mid-2020)   393.00  Core i3 1.1 GHz   \n",
      "15    Apple MacBook Pro 13.3” (Mid-2019)   384.00  Core i5 2.4 GHz   \n",
      "14    Apple MacBook Pro 13.3” (Mid-2019)   383.00  Core i7 2.8 GHz   \n",
      "28    Apple MacBook Pro 13.3” (Mid-2020)   382.99  Core i5 1.4 GHz   \n",
      "21    Apple MacBook Air 13.3” (Mid-2019)   355.00  Core i5 1.6 GHz   \n",
      "27   Apple MacBook Air 13.3” (Late 2018)   350.00  Core i5 1.6 GHz   \n",
      "11    Apple MacBook Pro 13.3” (Mid-2020)   345.99  Core i5 2.0 GHz   \n",
      "24    Apple MacBook Pro 13.3” (Mid-2018)   342.30  Core i7 2.7 GHz   \n",
      "8     Apple MacBook Pro 13.3” (Mid-2017)   240.99  Core i5 2.3 GHz   \n",
      "23    Apple MacBook Air 13.3” (Mid-2017)   212.97  Core i7 2.2 GHz   \n",
      "6   Apple MacBook Air 11.6” (Early 2015)   109.17  Core i5 1.6 GHz   \n",
      "10    Apple MacBook Air 11.6” (Mid-2014)    89.99  Core i5 1.4 GHz   \n",
      "\n",
      "            Keyboard   RAM Storage  \n",
      "16  QWERTY - English  16GB  512 GB  \n",
      "20  QWERTY - English  16GB  512 GB  \n",
      "7   QWERTY - English  16GB  256 GB  \n",
      "22  QWERTY - English   8GB  256 GB  \n",
      "18  QWERTY - English   8GB  256 GB  \n",
      "12  QWERTY - English  32GB  512 GB  \n",
      "25  QWERTY - English  32GB  512 GB  \n",
      "17  QWERTY - English  16GB  512 GB  \n",
      "0   QWERTY - English  32GB  512 GB  \n",
      "3   QWERTY - English   8GB  128 GB  \n",
      "13  QWERTY - English  32GB  512 GB  \n",
      "26  QWERTY - English  16GB  256 GB  \n",
      "1   QWERTY - English  16GB  512 GB  \n",
      "2   QWERTY - English  16GB  512 GB  \n",
      "9   QWERTY - English  32GB  512 GB  \n",
      "4   QWERTY - English  16GB  512 GB  \n",
      "19  QWERTY - English   8GB  256 GB  \n",
      "5   QWERTY - English   8GB  128 GB  \n",
      "15  QWERTY - English  16GB  256 GB  \n",
      "14  QWERTY - English  16GB  256 GB  \n",
      "28  QWERTY - English   8GB  256 GB  \n",
      "21  QWERTY - English  16GB  128 GB  \n",
      "27  QWERTY - English   8GB  128 GB  \n",
      "11  QWERTY - English  16GB  512 GB  \n",
      "24  QWERTY - English  16GB  256 GB  \n",
      "8   QWERTY - English   8GB   25 GB  \n",
      "23  QWERTY - English   8GB  128 GB  \n",
      "6   QWERTY - English   4GB  128 GB  \n",
      "10  QWERTY - English   4GB  128 GB  \n"
     ]
    }
   ],
   "source": [
    "# Convert scraped data to a DataFrame\n",
    "LaptopDF = pd.DataFrame(Laptops_array)\n",
    "\n",
    "LaptopDF['Price'] = LaptopDF['Price'].str.replace('$', '')\n",
    "LaptopDF['Price'] = LaptopDF['Price'].replace({',': ''}, regex=True).astype(float)\n",
    "\n",
    "sorted_LaptopDF = LaptopDF.sort_values(by=['Price'], ascending=False)\n",
    "print(sorted_LaptopDF)"
   ]
  },
  {
   "cell_type": "code",
   "execution_count": 72,
   "metadata": {},
   "outputs": [
    {
     "name": "stdout",
     "output_type": "stream",
     "text": [
      "                                  Model    Price        Processor  \\\n",
      "16  Apple MacBook Pro 14.2” (Late 2021)  1149.97     Apple M1 Pro   \n",
      "20  Apple MacBook Pro 16.2” (Late 2021)  1105.99     Apple M1 Pro   \n",
      "7   Apple MacBook Pro 13.3” (Late 2020)  1043.00         Apple M1   \n",
      "12     Apple MacBook Pro 16” (Mid-2019)   756.00  Core i9 2.4 GHz   \n",
      "25     Apple MacBook Pro 16” (Mid-2019)   601.99  Core i9 2.3 GHz   \n",
      "17     Apple MacBook Pro 16” (Mid-2019)   564.99  Core i9 2.3 GHz   \n",
      "0      Apple MacBook Pro 16” (Mid-2019)   539.00  Core i9 2.4 GHz   \n",
      "13   Apple MacBook Pro 13.3” (Mid-2020)   506.99  Core i7 2.3 GHz   \n",
      "26   Apple MacBook Pro 15.4” (Mid-2019)   499.00  Core i7 2.6 GHz   \n",
      "1    Apple MacBook Pro 13.3” (Mid-2020)   496.00  Core i5 2.0 GHz   \n",
      "2      Apple MacBook Pro 16” (Mid-2019)   484.00  Core i7 2.6 GHz   \n",
      "9     Apple MacBook Pro 16” (Late 2019)   473.99  Core i7 2.6 GHz   \n",
      "4    Apple MacBook Pro 13.3” (Mid-2020)   396.99  Core i7 2.3 GHz   \n",
      "15   Apple MacBook Pro 13.3” (Mid-2019)   384.00  Core i5 2.4 GHz   \n",
      "14   Apple MacBook Pro 13.3” (Mid-2019)   383.00  Core i7 2.8 GHz   \n",
      "28   Apple MacBook Pro 13.3” (Mid-2020)   382.99  Core i5 1.4 GHz   \n",
      "11   Apple MacBook Pro 13.3” (Mid-2020)   345.99  Core i5 2.0 GHz   \n",
      "24   Apple MacBook Pro 13.3” (Mid-2018)   342.30  Core i7 2.7 GHz   \n",
      "8    Apple MacBook Pro 13.3” (Mid-2017)   240.99  Core i5 2.3 GHz   \n",
      "\n",
      "            Keyboard   RAM Storage  \n",
      "16  QWERTY - English  16GB  512 GB  \n",
      "20  QWERTY - English  16GB  512 GB  \n",
      "7   QWERTY - English  16GB  256 GB  \n",
      "12  QWERTY - English  32GB  512 GB  \n",
      "25  QWERTY - English  32GB  512 GB  \n",
      "17  QWERTY - English  16GB  512 GB  \n",
      "0   QWERTY - English  32GB  512 GB  \n",
      "13  QWERTY - English  32GB  512 GB  \n",
      "26  QWERTY - English  16GB  256 GB  \n",
      "1   QWERTY - English  16GB  512 GB  \n",
      "2   QWERTY - English  16GB  512 GB  \n",
      "9   QWERTY - English  32GB  512 GB  \n",
      "4   QWERTY - English  16GB  512 GB  \n",
      "15  QWERTY - English  16GB  256 GB  \n",
      "14  QWERTY - English  16GB  256 GB  \n",
      "28  QWERTY - English   8GB  256 GB  \n",
      "11  QWERTY - English  16GB  512 GB  \n",
      "24  QWERTY - English  16GB  256 GB  \n",
      "8   QWERTY - English   8GB   25 GB  \n"
     ]
    }
   ],
   "source": [
    "MacBookPros = sorted_LaptopDF.query('Model.str.startswith(\"Apple MacBook Pro\")',engine=\"python\")\n",
    "print (MacBookPros)"
   ]
  },
  {
   "cell_type": "code",
   "execution_count": 73,
   "metadata": {},
   "outputs": [
    {
     "name": "stdout",
     "output_type": "stream",
     "text": [
      "                                   Model   Price        Processor  \\\n",
      "22    Apple MacBook Air 15.3” (Mid-2023)  849.00         Apple M2   \n",
      "18    Apple MacBook Air 13.3” (Mid-2022)  835.92         Apple M2   \n",
      "3    Apple MacBook Air 13.3” (Late 2020)  516.40         Apple M1   \n",
      "19    Apple MacBook Air 13.3” (Mid-2020)  394.24  Core i5 1.1 GHz   \n",
      "5     Apple MacBook Air 13.3” (Mid-2020)  393.00  Core i3 1.1 GHz   \n",
      "21    Apple MacBook Air 13.3” (Mid-2019)  355.00  Core i5 1.6 GHz   \n",
      "27   Apple MacBook Air 13.3” (Late 2018)  350.00  Core i5 1.6 GHz   \n",
      "23    Apple MacBook Air 13.3” (Mid-2017)  212.97  Core i7 2.2 GHz   \n",
      "6   Apple MacBook Air 11.6” (Early 2015)  109.17  Core i5 1.6 GHz   \n",
      "10    Apple MacBook Air 11.6” (Mid-2014)   89.99  Core i5 1.4 GHz   \n",
      "\n",
      "            Keyboard   RAM Storage  \n",
      "22  QWERTY - English   8GB  256 GB  \n",
      "18  QWERTY - English   8GB  256 GB  \n",
      "3   QWERTY - English   8GB  128 GB  \n",
      "19  QWERTY - English   8GB  256 GB  \n",
      "5   QWERTY - English   8GB  128 GB  \n",
      "21  QWERTY - English  16GB  128 GB  \n",
      "27  QWERTY - English   8GB  128 GB  \n",
      "23  QWERTY - English   8GB  128 GB  \n",
      "6   QWERTY - English   4GB  128 GB  \n",
      "10  QWERTY - English   4GB  128 GB  \n"
     ]
    }
   ],
   "source": [
    "MacBookAirs = sorted_LaptopDF.query('Model.str.startswith(\"Apple MacBook Air\")',engine=\"python\")\n",
    "print (MacBookAirs)"
   ]
  },
  {
   "cell_type": "code",
   "execution_count": 74,
   "metadata": {},
   "outputs": [
    {
     "name": "stdout",
     "output_type": "stream",
     "text": [
      "                                  Model    Price     Processor  \\\n",
      "16  Apple MacBook Pro 14.2” (Late 2021)  1149.97  Apple M1 Pro   \n",
      "20  Apple MacBook Pro 16.2” (Late 2021)  1105.99  Apple M1 Pro   \n",
      "7   Apple MacBook Pro 13.3” (Late 2020)  1043.00      Apple M1   \n",
      "22   Apple MacBook Air 15.3” (Mid-2023)   849.00      Apple M2   \n",
      "18   Apple MacBook Air 13.3” (Mid-2022)   835.92      Apple M2   \n",
      "3   Apple MacBook Air 13.3” (Late 2020)   516.40      Apple M1   \n",
      "\n",
      "            Keyboard   RAM Storage  \n",
      "16  QWERTY - English  16GB  512 GB  \n",
      "20  QWERTY - English  16GB  512 GB  \n",
      "7   QWERTY - English  16GB  256 GB  \n",
      "22  QWERTY - English   8GB  256 GB  \n",
      "18  QWERTY - English   8GB  256 GB  \n",
      "3   QWERTY - English   8GB  128 GB  \n"
     ]
    }
   ],
   "source": [
    "M1_MacBooks = sorted_LaptopDF.query('Processor.str.startswith(\"Apple\")',engine=\"python\")\n",
    "print(M1_MacBooks)"
   ]
  },
  {
   "cell_type": "code",
   "execution_count": 80,
   "metadata": {},
   "outputs": [
    {
     "data": {
      "text/plain": [
       "<matplotlib.collections.PathCollection at 0x30d09ce80>"
      ]
     },
     "execution_count": 80,
     "metadata": {},
     "output_type": "execute_result"
    },
    {
     "data": {
      "image/png": "[encoded data removed]",
      "text/plain": [
       "<Figure size 640x480 with 1 Axes>"
      ]
     },
     "metadata": {},
     "output_type": "display_data"
    }
   ],
   "source": [
    "#plt.scatter(M1_MacBooks.Price,M1_MacBooks.Processor)\n",
    "plt.scatter(M1_MacBooks.Price,M1_MacBooks.Processor)"
   ]
  }
 ],
 "metadata": {
  "kernelspec": {
   "display_name": "Python 3",
   "language": "python",
   "name": "python3"
  },
  "language_info": {
   "codemirror_mode": {
    "name": "ipython",
    "version": 3
   },
   "file_extension": ".py",
   "mimetype": "text/x-python",
   "name": "python",
   "nbconvert_exporter": "python",
   "pygments_lexer": "ipython3",
   "version": "3.9.6"
  }
 },
 "nbformat": 4,
 "nbformat_minor": 2
}
